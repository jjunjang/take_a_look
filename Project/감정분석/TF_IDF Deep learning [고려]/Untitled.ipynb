{
 "cells": [
  {
   "cell_type": "code",
   "execution_count": 226,
   "metadata": {
    "scrolled": true
   },
   "outputs": [
    {
     "name": "stdout",
     "output_type": "stream",
     "text": [
      "rank        int64\n",
      "id         object\n",
      "title      object\n",
      "content    object\n",
      "text       object\n",
      "dtype: object\n"
     ]
    }
   ],
   "source": [
    "from sklearn.feature_extraction.text import TfidfTransformer\n",
    "import pandas as pd\n",
    "\n",
    "tfidf_transformer = TfidfTransformer(smooth_idf = True, use_idf=True)\n",
    "tfidf_transformer.fit(word_count_vector)\n",
    "\n",
    "\n",
    "#TF-IDF 계산 및 키워드 추출\n",
    "#read test docs into a dataframe and concatenate title and body\n",
    "paramnames = ['rank','id','title','content'] \n",
    "\n",
    "df_idf = pd.read_csv(\"D:\\\\Project\\\\WebCrowling\\\\tt00000.tsv\",sep='\\t', error_bad_lines=False, names=paramnames)\n",
    "df_idf['text'] = df_idf['title'] + df_idf['content']\n",
    "df_idf['text'] = df_test['text'].apply(lambda x:pre_process(x))\n",
    "\n",
    "#get test docs into a list\n",
    "docs_test = df_test['text']\n",
    "print(df_idf.dtypes)"
   ]
  },
  {
   "cell_type": "code",
   "execution_count": 227,
   "metadata": {},
   "outputs": [
    {
     "data": {
      "text/plain": [
       "0       tied for the best movie i have ever seenwhy do...\n",
       "1       a classic piece of unforgettable film making i...\n",
       "2       prepare to be movedi have never seen such an a...\n",
       "3       this is how movies should be madethis movie is...\n",
       "4       shawshank redeems hollywoodcan hollywood usual...\n",
       "5       don t rent shawshank i m trying to save you mo...\n",
       "6       some birds aren t meant to be caged the shawsh...\n",
       "7       eternal hopei ve lost count of the number of t...\n",
       "8       stephen king s best adapted moviemisery and st...\n",
       "9       the shawshank redemptionone of the finest film...\n",
       "10      two movies in onethe reason i became a member ...\n",
       "11      simply known as the movie whenever i talk abou...\n",
       "12      simply amazing the best film of the s the shaw...\n",
       "13      its an excellent piece of arti watch this movi...\n",
       "14      the absolute greatest movie of all time my lif...\n",
       "15      the best story ever told on filmi believe that...\n",
       "16      oh my godmotherthree words oh my god how am i ...\n",
       "17      i make the questions here it has a formula tha...\n",
       "18      this is a wonderful movie when i first see it ...\n",
       "19      from my favorite movies it is one of the best ...\n",
       "20      busy dying or busy living yes there are spoile...\n",
       "21      prison thriller with violence hatred corruptio...\n",
       "22      greatest movie of all time this movie is one o...\n",
       "23      a movie revolution upon all otherswe have all ...\n",
       "24      great story wondrously told and actedat the he...\n",
       "25      hope can set you free and so can this remarkab...\n",
       "26      the closest thing to poetic perfection hollywo...\n",
       "27      good but it is overrated by somein recent year...\n",
       "28      life changingi first saw this film like many o...\n",
       "29      awesome movie the shawshank redemption it s ve...\n",
       "                              ...                        \n",
       "6056    entertaining but not greatthey could have cut ...\n",
       "6057    not that greatjust came back from the movie an...\n",
       "6058    batman himself could have had more edgesto me ...\n",
       "6059    the dark knight batman i m sure i haven t got ...\n",
       "6060    a truly shocking swansong never to be forgotte...\n",
       "6061    great film bad messagethere s no doubt that th...\n",
       "6062    where does the ending leave us whats gonna hap...\n",
       "6063    a great sequeli would give this stars i watche...\n",
       "6064    good but you were expecting more from this ala...\n",
       "6065    breathlessthis was a relief to me after the in...\n",
       "6066    a good film but not the besti think the dark k...\n",
       "6067    quite simply the best transition from the comi...\n",
       "6068    joker outshines dark knightjust a short from m...\n",
       "6069    best of i have to agree that this is by far th...\n",
       "6070    an unbiased critique of the latest batman flic...\n",
       "6071    overrated but good i m shocked how high the da...\n",
       "6072    pretty good movie but not epic i truly enjoyed...\n",
       "6073    great summer movie for the family there will b...\n",
       "6074    not perfect but still a great film people said...\n",
       "6075    it s not sealedis a throw away line spoken mid...\n",
       "6076    ledger amazing gyllenhall not i went in skepti...\n",
       "6077    finally saw the dark knight ah at last been wa...\n",
       "6078    very good liked it even better after seeing it...\n",
       "6079    verdict is not in for best movie of all timeth...\n",
       "6080    ledger s joker is superb but jack s joker is b...\n",
       "6081    the dark knight the good the bad and the ugly ...\n",
       "6082    get some information about celebrity and milli...\n",
       "6083    a great filmyesterday i went to see the dark k...\n",
       "6084    nolan ups the ante the best super hero movie e...\n",
       "6085    to heath ledgerbatman has human weaknesses and...\n",
       "Name: text, Length: 6086, dtype: object"
      ]
     },
     "execution_count": 227,
     "metadata": {},
     "output_type": "execute_result"
    }
   ],
   "source": [
    "import re\n",
    "def pre_process(text):\n",
    "    text=text.lower()\n",
    "    \n",
    "    #remove tag\n",
    "    text = re.sub(\"&lt;/?.*?&gt;\",\" &lt;&gt; \",text)\n",
    "    \n",
    "    #remove special characters and digits\n",
    "    text = re.sub(\"(\\\\d|\\\\W)+\",\" \",text)\n",
    "    \n",
    "    return text\n",
    "\n",
    "df_idf['text'] = df_idf['title'] + df_idf['content']\n",
    "df_idf['text'] = df_idf['text'].apply(lambda x:pre_process(x))\n",
    "\n",
    "df_idf['text']"
   ]
  },
  {
   "cell_type": "code",
   "execution_count": 228,
   "metadata": {},
   "outputs": [],
   "source": [
    "from sklearn.feature_extraction.text import CountVectorizer\n",
    "import re\n",
    "\n",
    "def get_stop_words(stop_file_path):\n",
    "    with open(stop_file_path, 'r', encoding = \"utf-8\") as f:\n",
    "        stopwords = f.readlines()\n",
    "        stop_set = set(m.strip() for m in stopwords)\n",
    "        return frozenset(stop_set)\n",
    "    \n",
    "#load a set of stopwords\n",
    "stopwords = get_stop_words(\"stopwords.txt\")\n",
    "\n",
    "#get the text column\n",
    "docs = df_idf['text'].tolist()\n",
    "\n",
    "#create a vocabulary of words,\n",
    "#ignore word hat appear in 85% of documents,\n",
    "#eliminate stop words\n",
    "cv = CountVectorizer(max_df = 0.85,stop_words = stopwords)\n",
    "word_count_vector=cv.fit_transform(docs)\n",
    "\n"
   ]
  },
  {
   "cell_type": "code",
   "execution_count": 229,
   "metadata": {},
   "outputs": [
    {
     "data": {
      "text/plain": [
       "['tied',\n",
       " 'best',\n",
       " 'movie',\n",
       " 'write',\n",
       " 'th',\n",
       " 'comment',\n",
       " 'shawshank',\n",
       " 'redemption',\n",
       " 'am',\n",
       " 'sure']"
      ]
     },
     "execution_count": 229,
     "metadata": {},
     "output_type": "execute_result"
    }
   ],
   "source": [
    "cv=CountVectorizer(max_df=0.85, stop_words = stopwords, max_features = 10000)\n",
    "word_count_vector=cv.fit_transform(docs)\n",
    "\n",
    "list(cv.vocabulary_.keys())[:10]\n"
   ]
  },
  {
   "cell_type": "code",
   "execution_count": 195,
   "metadata": {},
   "outputs": [
    {
     "name": "stdout",
     "output_type": "stream",
     "text": [
      "0      tied for the best movie i have ever seenwhy do...\n",
      "1      a classic piece of unforgettable film making i...\n",
      "2      prepare to be movedi have never seen such an a...\n",
      "3      this is how movies should be madethis movie is...\n",
      "4      shawshank redeems hollywoodcan hollywood usual...\n",
      "5      don t rent shawshank i m trying to save you mo...\n",
      "6      some birds aren t meant to be caged the shawsh...\n",
      "7      eternal hopei ve lost count of the number of t...\n",
      "8      stephen king s best adapted moviemisery and st...\n",
      "9      the shawshank redemptionone of the finest film...\n",
      "10     two movies in onethe reason i became a member ...\n",
      "11     simply known as the movie whenever i talk abou...\n",
      "12     simply amazing the best film of the s the shaw...\n",
      "13     its an excellent piece of arti watch this movi...\n",
      "14     the absolute greatest movie of all time my lif...\n",
      "15     the best story ever told on filmi believe that...\n",
      "16     oh my godmotherthree words oh my god how am i ...\n",
      "17     i make the questions here it has a formula tha...\n",
      "18     this is a wonderful movie when i first see it ...\n",
      "19     from my favorite movies it is one of the best ...\n",
      "20     busy dying or busy living yes there are spoile...\n",
      "21     prison thriller with violence hatred corruptio...\n",
      "22     greatest movie of all time this movie is one o...\n",
      "23     a movie revolution upon all otherswe have all ...\n",
      "24     great story wondrously told and actedat the he...\n",
      "25     hope can set you free and so can this remarkab...\n",
      "26     the closest thing to poetic perfection hollywo...\n",
      "27     good but it is overrated by somein recent year...\n",
      "28     life changingi first saw this film like many o...\n",
      "29     awesome movie the shawshank redemption it s ve...\n",
      "                             ...                        \n",
      "470    very good movie but lets stand back and take a...\n",
      "471    why so serious why is the dark knight so serio...\n",
      "472    not bad but not great this is the doctor zhiva...\n",
      "473    badmanone has to sit through a lot of idiocy i...\n",
      "474    great fun but woefully overratedi m going to m...\n",
      "475    too long too little in spite of heath ledger s...\n",
      "476    don t believe the hype somebody please tell me...\n",
      "477    mind blowingi am not a huge fan of sequels and...\n",
      "478    legendarysometimes the films which long often ...\n",
      "479    wowi really like this movie it was a lot bette...\n",
      "480    the most wonderful move everthis move is the m...\n",
      "481    a modern masterpiecea modern masterpiece of st...\n",
      "482    brilliant movie definitely worth watchingwell ...\n",
      "483    great movie ever seengreat acting of joker sal...\n",
      "484    the dumb knightyou have got to be kidding me m...\n",
      "485    i was really surprisedto tell you the truth i ...\n",
      "486    not just the greatest superhero movie ever mad...\n",
      "487    a perfect filmfilms like these don t come alon...\n",
      "488    want your greek tragedy crime thriller with a ...\n",
      "489    on of the best superhero filmit was a wonderfu...\n",
      "490    dark brilliant and the best movie of the year ...\n",
      "491    well worth staying upthe dark knight became th...\n",
      "492    amazing to say the least let s start with batm...\n",
      "493    not what batman is supposed to bein christophe...\n",
      "494    a different perspectivemany people think this ...\n",
      "495    awesome movieawesome movie great story star ca...\n",
      "496    amazing ever since this movie came out i ve lo...\n",
      "497    legendary movieit is within the list of the be...\n",
      "498    it s difficult not to enjoy this moviefrom the...\n",
      "499    has the world gone insane this is my big quest...\n",
      "Name: text, Length: 500, dtype: object\n"
     ]
    }
   ],
   "source": [
    "from sklearn.feature_extraction.text import TfidfTransformer\n",
    "\n",
    "tfidf_transformer = TfidfTransformer(smooth_idf = True, use_idf=True)\n",
    "tfidf_transformer.fit(word_count_vector)\n",
    "\n",
    "\n",
    "#TF-IDF 계산 및 키워드 추출\n",
    "#read test docs into a dataframe and concatenate title and body\n",
    "paramnames = ['rank','id','title','content'] \n",
    "\n",
    "df_idf = pd.read_csv(\"D:\\\\Project\\\\WebCrowling\\\\tt00000.tsv\",sep='\\t', error_bad_lines=False, names=paramnames)\n",
    "df_test['text'] = df_idf['title'] + df_idf['content']\n",
    "df_test['text'] = df_test['text'].apply(lambda x:pre_process(x))\n",
    "\n",
    "#get test docs into a list\n",
    "docs_test = df_test['text']\n",
    "print(docs_test)"
   ]
  },
  {
   "cell_type": "code",
   "execution_count": 53,
   "metadata": {},
   "outputs": [],
   "source": []
  },
  {
   "cell_type": "code",
   "execution_count": 169,
   "metadata": {},
   "outputs": [],
   "source": [
    "def sort_coo(coo_matrix):\n",
    "    tuples = zip(coo_matrix.col, coo_matrix.data)\n",
    "    return sorted(tuples, key=lambda x: (x[1],x[0]), reverse=True)\n",
    "\n",
    "def extract_topn_from_vector(feature_names, sorted_items, topn=10):\n",
    "    \"\"\"gety the feature names and tf-idf score of top n items\"\"\"\n",
    "    #use only topn items from vector\n",
    "    sorted_items = sorted_items[:topn]\n",
    "    score_vals = []\n",
    "    feature_vals = []\n",
    "    \n",
    "    #word index and corresponding tf-idf score\n",
    "    for idx, score in sorted_items:\n",
    "        #keep track of feature name and its corresponding score\n",
    "        score_vals.append(round(score,3))\n",
    "        feature_vals.append(feature_names[idx])\n",
    "        \n",
    "    #create a tuples of feature,score\n",
    "    #results -= zip(feature_vals,score_vals)\n",
    "    results = {}\n",
    "    for idx in range(len(feature_vals)):\n",
    "        results[feature_vals[idx]]=score_vals[idx]\n",
    "        \n",
    "    return results\n"
   ]
  },
  {
   "cell_type": "code",
   "execution_count": 260,
   "metadata": {},
   "outputs": [
    {
     "name": "stdout",
     "output_type": "stream",
     "text": [
      "\n",
      "=====Doc=====\n",
      "In its Oscar year, Shawshank Redemption (written and directed by Frank Darabont, after the novella Rita Hayworth and the Shawshank Redemption, by Stephen King) was nominated for seven Academy Awards, and walked away with zero. Best Picture went to Forrest Gump, while Shawshank and Pulp Fiction were \"just happy to be nominated.\" Of course hindsight is 20/20, but while history looks back on Gump as a good film, Pulp and Redemption are remembered as some of the all-time best. Pulp, however, was a success from the word \"go,\" making a huge splash at Cannes and making its writer-director an American master after only two films. For Andy Dufresne and Co., success didn't come easy. Fortunately, failure wasn't a life sentence.After opening on 33 screens with take of $727,327, the $25M film fell fast from theatres and finished with a mere $28.3M. The reasons for failure are many. Firstly, the title is a clunker. While iconic to fans today, in 1994, people knew not and cared not what a 'Shawshank' was. On the DVD, Tim Robbins laughs recounting fans congratulating him on \"that 'Rickshaw' movie.\" Marketing-wise, the film's a nightmare, as 'prison drama' is a tough sell to women, and the story of love between two best friends doesn't spell winner to men. Worst of all, the movie is slow as molasses. As Desson Thomson writes for the Washington Post, \"it wanders down subplots at every opportunity and ignores an abundance of narrative exit points before settling on its finale.\" But it is these same weaknesses that make the film so strong.Firstly, its setting. The opening aerial shots of the prison are a total eye-opener. This is an amazing piece of architecture, strong and Gothic in design. Immediately, the prison becomes a character. It casts its shadow over most of the film, its tall stone walls stretching above every shot. It towers over the men it contains, blotting out all memories of the outside world. Only Andy (Robbins) holds onto hope. It's in music, it's in the sandy beaches of Zihuatanejo; \"In here's where you need it most,\" he says. \"You need it so you don't forget. Forget that there are places in the world that aren't made out of stone. That there's a - there's a - there's something inside that's yours, that they can't touch.\" Red (Morgan Freeman) doesn't think much of Andy at first, picking \"that tall glass o' milk with the silver spoon up his ass\" as the first new fish to crack. Andy says not a word, and losing his bet, Red resents him for it. But over time, as the two get to know each other, they quickly become the best of friends. This again, is one of the film's major strengths. Many movies are about love, many flicks have a side-kick to the hero, but Shawshank is the only one I can think of that looks honestly at the love between two best friends. It seems odd that Hollywood would skip this relationship time and again, when it's a feeling that weighs so much into everyone's day to day lives. Perhaps it's too sentimental to seem conventional, but Shawshank's core friendship hits all the right notes, and the film is much better for it.It's pacing is deliberate as well. As we spend the film watching the same actors, it is easy to forget that the movie's timeline spans well over 20 years. Such a huge measure of time would pass slowly in reality, and would only be amplified in prison. And it's not as if the film lacks interest in these moments. It still knows where it's going, it merely intends on taking its sweet time getting there. It pays off as well, as the tedium of prison life makes the climax that much more exhilarating. For anyone who sees it, it is a moment never to be forgotten.With themes of faith and hope, there is a definite religious subtext to be found here. Quiet, selfless and carefree, Andy is an obvious Christ figure. Warden Norton (Bob Gunton) is obviously modeled on Richard Nixon, who, in his day, was as close to a personified Satan as they come. But if you aren't looking for subtexts, the movie speaks to anyone in search of hope. It is a compelling drama, and a very moving film, perfectly written, acted and shot. They just don't come much better than this.OVERALL SCORE: 9.8/10 = A+ The Shawshank Redemption served as a message of hope to Hollywood as well. More than any film in memory, it proved there is life after box office. Besting Forrest and Fiction, it ran solely on strong word of mouth and became the hottest rented film of 1995. It currently sits at #2 in the IMDb's Top 250 Films, occasionally swapping spots with The Godfather as the top ranked film of all time -- redemption indeed. If you haven't seen it yet, what the hell are you waiting for? As Andy says, \"It comes down a simple choice, really. Either get busy living, or get busy dying.\"\n",
      "\n",
      "===Keywords===\n"
     ]
    },
    {
     "ename": "TypeError",
     "evalue": "append() takes exactly one argument (0 given)",
     "output_type": "error",
     "traceback": [
      "\u001b[1;31m---------------------------------------------------------------------------\u001b[0m",
      "\u001b[1;31mTypeError\u001b[0m                                 Traceback (most recent call last)",
      "\u001b[1;32m<ipython-input-260-6a336656e82f>\u001b[0m in \u001b[0;36m<module>\u001b[1;34m\u001b[0m\n\u001b[0;32m     25\u001b[0m     \u001b[0mdoc\u001b[0m \u001b[1;33m=\u001b[0m \u001b[0mdf_idf\u001b[0m\u001b[1;33m[\u001b[0m\u001b[1;34m'content'\u001b[0m\u001b[1;33m]\u001b[0m\u001b[1;33m[\u001b[0m\u001b[0mi\u001b[0m\u001b[1;33m]\u001b[0m \u001b[1;31m#content의 i에 해당하는걸 doc에\u001b[0m\u001b[1;33m\u001b[0m\u001b[1;33m\u001b[0m\u001b[0m\n\u001b[0;32m     26\u001b[0m     \u001b[1;32mfor\u001b[0m \u001b[0mk\u001b[0m \u001b[1;32min\u001b[0m \u001b[0mkeywords\u001b[0m\u001b[1;33m:\u001b[0m \u001b[1;31m#k 내 키워드를 검사\u001b[0m\u001b[1;33m\u001b[0m\u001b[1;33m\u001b[0m\u001b[0m\n\u001b[1;32m---> 27\u001b[1;33m         \u001b[0mTemp\u001b[0m\u001b[1;33m.\u001b[0m\u001b[0mappend\u001b[0m\u001b[1;33m(\u001b[0m\u001b[1;33m)\u001b[0m\u001b[1;33m[\u001b[0m\u001b[0mk\u001b[0m\u001b[1;33m]\u001b[0m\u001b[1;33m\u001b[0m\u001b[1;33m\u001b[0m\u001b[0m\n\u001b[0m\u001b[0;32m     28\u001b[0m \u001b[1;33m\u001b[0m\u001b[0m\n\u001b[0;32m     29\u001b[0m \u001b[0mprint\u001b[0m\u001b[1;33m(\u001b[0m\u001b[0ma\u001b[0m\u001b[1;33m)\u001b[0m\u001b[1;33m\u001b[0m\u001b[1;33m\u001b[0m\u001b[0m\n",
      "\u001b[1;31mTypeError\u001b[0m: append() takes exactly one argument (0 given)"
     ]
    }
   ],
   "source": [
    "#you only needs to do this once, this is a mapping of index to\n",
    "feature_names = cv.get_feature_names()\n",
    "\n",
    "\n",
    "#for i in range(len(df_idf['text'])):\n",
    "\n",
    "#get the document that we want to extract keywords from\n",
    "\n",
    "#generate tf-idf for the given document\n",
    "tf_idf_vector = tfidf_transformer.transform(cv.transform([doc]))\n",
    "\n",
    "#sort the tf-idf vectors by descending order of scores\n",
    "sorted_items = sort_coo(tf_idf_vector.tocoo())\n",
    "\n",
    "#extract only the top n; n here is 10\n",
    "keywords = extract_topn_from_vector(feature_names, sorted_items, 10)\n",
    "\n",
    "#now print the results\n",
    "print(\"\\n=====Doc=====\")\n",
    "print(doc)\n",
    "print(\"\\n===Keywords===\")\n",
    "\n",
    "Temp = []\n",
    "for i in range(1,5000): # 5000까지 반복\n",
    "    doc = df_idf['content'][i] #content의 i에 해당하는걸 doc에\n",
    "    for k in keywords: #k 내 키워드를 검사\n",
    "        Temp.append()[k]\n",
    "            \n",
    "print(a)"
   ]
  }
 ],
 "metadata": {
  "kernelspec": {
   "display_name": "Python 3",
   "language": "python",
   "name": "python3"
  },
  "language_info": {
   "codemirror_mode": {
    "name": "ipython",
    "version": 3
   },
   "file_extension": ".py",
   "mimetype": "text/x-python",
   "name": "python",
   "nbconvert_exporter": "python",
   "pygments_lexer": "ipython3",
   "version": "3.7.3"
  }
 },
 "nbformat": 4,
 "nbformat_minor": 2
}
